{
 "cells": [
  {
   "cell_type": "code",
   "execution_count": null,
   "id": "c43e22af-17d2-41e5-a2d5-69c1547d6afb",
   "metadata": {},
   "outputs": [],
   "source": [
    "!pip install networkx matplotlib scipy"
   ]
  },
  {
   "cell_type": "code",
   "execution_count": 4,
   "id": "36c8d03c-6b22-4e67-a8fb-27fdefbc4e52",
   "metadata": {},
   "outputs": [],
   "source": [
    "import json"
   ]
  },
  {
   "cell_type": "code",
   "execution_count": 15,
   "id": "583d8478-14d9-4032-8c8b-12cc7a18238a",
   "metadata": {},
   "outputs": [],
   "source": [
    "G2 = nx.DiGraph()\n",
    "\n",
    "id_to_name = {}\n",
    "\n",
    "with open('../elements.dump.json', 'r') as f:\n",
    "    for line in f:\n",
    "        row = json.loads(line)\n",
    "        if 'imgUrl' in row:\n",
    "            id_to_name[row['id']] = row['name']\n",
    "        else:\n",
    "            element_ids = row['name'].replace('recipe:', '').split(',')\n",
    "            try:\n",
    "                element_names = [id_to_name[i] for i in element_ids]\n",
    "                result_name = id_to_name[row['resultElementId']]\n",
    "            except:\n",
    "                continue\n",
    "            if len(element_names) == 2:\n",
    "                G2.add_edge(element_names[0], result_name)\n",
    "                G2.add_edge(element_names[1], result_name)"
   ]
  },
  {
   "cell_type": "code",
   "execution_count": 17,
   "id": "e1bce0e9-6c72-4caa-91a8-21c11d61366f",
   "metadata": {},
   "outputs": [
    {
     "ename": "KeyboardInterrupt",
     "evalue": "",
     "output_type": "error",
     "traceback": [
      "\u001b[1;31m---------------------------------------------------------------------------\u001b[0m",
      "\u001b[1;31mKeyboardInterrupt\u001b[0m                         Traceback (most recent call last)",
      "Cell \u001b[1;32mIn[17], line 22\u001b[0m\n\u001b[0;32m     19\u001b[0m     \u001b[38;5;28;01mreturn\u001b[39;00m elements_created\n\u001b[0;32m     21\u001b[0m \u001b[38;5;66;03m# Get all elements that can be created with only 3 recipes\u001b[39;00m\n\u001b[1;32m---> 22\u001b[0m elements_created \u001b[38;5;241m=\u001b[39m \u001b[43mfind_elements_with_3_recipes\u001b[49m\u001b[43m(\u001b[49m\u001b[43mG2\u001b[49m\u001b[43m,\u001b[49m\u001b[43m \u001b[49m\u001b[43mstarter_elements\u001b[49m\u001b[43m)\u001b[49m\n\u001b[0;32m     23\u001b[0m \u001b[38;5;28mprint\u001b[39m(\u001b[38;5;124m\"\u001b[39m\u001b[38;5;124mElements that can be created with only 3 recipes:\u001b[39m\u001b[38;5;124m\"\u001b[39m, elements_created)\n",
      "Cell \u001b[1;32mIn[17], line 15\u001b[0m, in \u001b[0;36mfind_elements_with_3_recipes\u001b[1;34m(graph, starters)\u001b[0m\n\u001b[0;32m     11\u001b[0m \u001b[38;5;28;01mfor\u001b[39;00m starter \u001b[38;5;129;01min\u001b[39;00m starters:\n\u001b[0;32m     12\u001b[0m     \u001b[38;5;66;03m# Iterate over all possible targets in the graph\u001b[39;00m\n\u001b[0;32m     13\u001b[0m     \u001b[38;5;28;01mfor\u001b[39;00m target \u001b[38;5;129;01min\u001b[39;00m graph\u001b[38;5;241m.\u001b[39mnodes:\n\u001b[0;32m     14\u001b[0m         \u001b[38;5;66;03m# Use BFS to find all paths with a depth of 3\u001b[39;00m\n\u001b[1;32m---> 15\u001b[0m         \u001b[38;5;28;01mfor\u001b[39;00m path \u001b[38;5;129;01min\u001b[39;00m nx\u001b[38;5;241m.\u001b[39mall_simple_paths(graph, source\u001b[38;5;241m=\u001b[39mstarter, target\u001b[38;5;241m=\u001b[39mtarget, cutoff\u001b[38;5;241m=\u001b[39m\u001b[38;5;241m3\u001b[39m):\n\u001b[0;32m     16\u001b[0m             \u001b[38;5;66;03m# The last node in the path is the element created\u001b[39;00m\n\u001b[0;32m     17\u001b[0m             elements_created\u001b[38;5;241m.\u001b[39madd(path[\u001b[38;5;241m-\u001b[39m\u001b[38;5;241m1\u001b[39m])\n\u001b[0;32m     19\u001b[0m \u001b[38;5;28;01mreturn\u001b[39;00m elements_created\n",
      "File \u001b[1;32mC:\\Dev\\sshh12\\llm_alchemy\\venv\\lib\\site-packages\\networkx\\algorithms\\simple_paths.py:290\u001b[0m, in \u001b[0;36m_all_simple_paths_graph\u001b[1;34m(G, source, targets, cutoff)\u001b[0m\n\u001b[0;32m    288\u001b[0m         visited\u001b[38;5;241m.\u001b[39mpopitem()  \u001b[38;5;66;03m# maybe other ways to child\u001b[39;00m\n\u001b[0;32m    289\u001b[0m \u001b[38;5;28;01melse\u001b[39;00m:  \u001b[38;5;66;03m# len(visited) == cutoff:\u001b[39;00m\n\u001b[1;32m--> 290\u001b[0m     \u001b[38;5;28;01mfor\u001b[39;00m target \u001b[38;5;129;01min\u001b[39;00m (targets \u001b[38;5;241m&\u001b[39m (\u001b[38;5;28mset\u001b[39m(children) \u001b[38;5;241m|\u001b[39m {child})) \u001b[38;5;241m-\u001b[39m \u001b[38;5;28;43mset\u001b[39;49m\u001b[43m(\u001b[49m\u001b[43mvisited\u001b[49m\u001b[38;5;241;43m.\u001b[39;49m\u001b[43mkeys\u001b[49m\u001b[43m(\u001b[49m\u001b[43m)\u001b[49m\u001b[43m)\u001b[49m:\n\u001b[0;32m    291\u001b[0m         \u001b[38;5;28;01myield\u001b[39;00m \u001b[38;5;28mlist\u001b[39m(visited) \u001b[38;5;241m+\u001b[39m [target]\n\u001b[0;32m    292\u001b[0m     stack\u001b[38;5;241m.\u001b[39mpop()\n",
      "\u001b[1;31mKeyboardInterrupt\u001b[0m: "
     ]
    }
   ],
   "source": [
    "import networkx as nx\n",
    "\n",
    "starter_elements = ['earth', 'water', 'air', 'fire', 'time']\n",
    "\n",
    "# Function to find all elements that can be created with only 3 recipes\n",
    "def find_elements_with_3_recipes(graph, starters):\n",
    "    # Set to keep track of all unique elements that can be created\n",
    "    elements_created = set()\n",
    "\n",
    "    # Perform BFS from each starter element\n",
    "    for starter in starters:\n",
    "        # Iterate over all possible targets in the graph\n",
    "        for target in graph.nodes:\n",
    "            # Use BFS to find all paths with a depth of 3\n",
    "            for path in nx.all_simple_paths(graph, source=starter, target=target, cutoff=3):\n",
    "                # The last node in the path is the element created\n",
    "                elements_created.add(path[-1])\n",
    "\n",
    "    return elements_created\n",
    "\n",
    "# Get all elements that can be created with only 3 recipes\n",
    "elements_created = find_elements_with_3_recipes(G2, starter_elements)\n",
    "print(\"Elements that can be created with only 3 recipes:\", elements_created)"
   ]
  },
  {
   "cell_type": "code",
   "execution_count": null,
   "id": "d3e9d5eb-48a5-4492-94d5-acbfee7a7999",
   "metadata": {},
   "outputs": [],
   "source": [
    "import matplotlib.pyplot as plt\n",
    "nx.draw(G2, with_labels=True)\n",
    "plt.savefig('plotgraph.png', dpi=300, bbox_inches='tight')"
   ]
  },
  {
   "cell_type": "code",
   "execution_count": null,
   "id": "0220f58d-a4af-4128-a15f-199a36ed1850",
   "metadata": {},
   "outputs": [],
   "source": []
  }
 ],
 "metadata": {
  "kernelspec": {
   "display_name": "Python 3 (ipykernel)",
   "language": "python",
   "name": "python3"
  },
  "language_info": {
   "codemirror_mode": {
    "name": "ipython",
    "version": 3
   },
   "file_extension": ".py",
   "mimetype": "text/x-python",
   "name": "python",
   "nbconvert_exporter": "python",
   "pygments_lexer": "ipython3",
   "version": "3.10.8"
  }
 },
 "nbformat": 4,
 "nbformat_minor": 5
}
