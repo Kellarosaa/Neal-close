{
 "cells": [
  {
   "cell_type": "code",
   "execution_count": null,
   "id": "c43e22af-17d2-41e5-a2d5-69c1547d6afb",
   "metadata": {},
   "outputs": [],
   "source": [
    "!pip install networkx matplotlib scipy"
   ]
  },
  {
   "cell_type": "code",
   "execution_count": null,
   "id": "36c8d03c-6b22-4e67-a8fb-27fdefbc4e52",
   "metadata": {},
   "outputs": [],
   "source": [
    "import json\n",
    "from matplotlib import pylab\n",
    "import networkx as nx\n",
    "import datetime"
   ]
  },
  {
   "cell_type": "code",
   "execution_count": null,
   "id": "583d8478-14d9-4032-8c8b-12cc7a18238a",
   "metadata": {},
   "outputs": [],
   "source": [
    "G2 = nx.DiGraph()\n",
    "\n",
    "id_to_name = {}\n",
    "name_to_id = {}\n",
    "edges2 = {}\n",
    "\n",
    "with open('../elements.dump.json', 'r') as f:\n",
    "    for line in f:\n",
    "        row = json.loads(line)\n",
    "        if 'imgUrl' in row:\n",
    "            id_to_name[row['id']] = row['name']\n",
    "            name_to_id[row['name']] = row['id']\n",
    "        else:\n",
    "            element_ids = row['name'].replace('recipe:', '').split(',')\n",
    "            try:\n",
    "                element_names = [id_to_name[i] for i in element_ids]\n",
    "                result_name = id_to_name[row['resultElementId']]\n",
    "            except:\n",
    "                continue\n",
    "            if len(element_names) == 2:\n",
    "                edges2[(element_names[0], element_names[1])] = result_name"
   ]
  },
  {
   "cell_type": "code",
   "execution_count": null,
   "id": "7c08f35d-741f-4802-8dcc-7a53572e98d4",
   "metadata": {},
   "outputs": [],
   "source": []
  },
  {
   "cell_type": "code",
   "execution_count": null,
   "id": "e1bce0e9-6c72-4caa-91a8-21c11d61366f",
   "metadata": {},
   "outputs": [],
   "source": [
    "def get_next_tier(elements):\n",
    "    next_tier = set()\n",
    "    for a in elements:\n",
    "        for b in elements:\n",
    "            if ab_result := edges2.get((a, b)):\n",
    "                next_tier.add(ab_result)\n",
    "    return next_tier - elements\n",
    "\n",
    "t0 = set(['earth', 'water', 'air', 'fire', 'time'])\n",
    "t1 = get_next_tier(t0)\n",
    "t2 = get_next_tier(t0 | t1)\n",
    "t3 = get_next_tier(t0 | t1 | t2)\n",
    "t4 = get_next_tier(t0 | t1 | t2 | t3)\n",
    "t5 = get_next_tier(t0 | t1 | t2 | t3 | t4)\n",
    "t6 = get_next_tier(t0 | t1 | t2 | t3 | t4 | t5)"
   ]
  },
  {
   "cell_type": "code",
   "execution_count": null,
   "id": "1e19a92e-8024-4f34-8b18-17220f55968b",
   "metadata": {},
   "outputs": [],
   "source": [
    "import random\n",
    "import json\n",
    "\n",
    "cur = datetime.datetime.now()\n",
    "total = 365 * 5\n",
    "\n",
    "challenges = []\n",
    "for i in range(total):\n",
    "    date = cur.isoformat()[:10]\n",
    "    easy = random.choice(list(t2))\n",
    "    hard = random.choice(list(t4))\n",
    "    expert = random.choice(list(t6))\n",
    "    print(date, easy, hard, expert)\n",
    "    cur += datetime.timedelta(days=1)\n",
    "    challenges.append({'date': date, 'easyId': name_to_id[easy], 'hardId': name_to_id[hard], 'expertId': name_to_id[expert], 'easy': easy, 'hard': hard, 'expert': expert})\n",
    "\n",
    "with open('../challenges.dump.json', 'w') as f:\n",
    "    json.dump(challenges, f, indent=2)"
   ]
  },
  {
   "cell_type": "code",
   "execution_count": null,
   "id": "b08cd61c-63f0-4dfc-b273-24452c325194",
   "metadata": {},
   "outputs": [],
   "source": []
  }
 ],
 "metadata": {
  "kernelspec": {
   "display_name": "Python 3 (ipykernel)",
   "language": "python",
   "name": "python3"
  },
  "language_info": {
   "codemirror_mode": {
    "name": "ipython",
    "version": 3
   },
   "file_extension": ".py",
   "mimetype": "text/x-python",
   "name": "python",
   "nbconvert_exporter": "python",
   "pygments_lexer": "ipython3",
   "version": "3.10.8"
  }
 },
 "nbformat": 4,
 "nbformat_minor": 5
}
