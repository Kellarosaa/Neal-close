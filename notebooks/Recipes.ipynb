{
 "cells": [
  {
   "cell_type": "code",
   "execution_count": 21,
   "id": "c43e22af-17d2-41e5-a2d5-69c1547d6afb",
   "metadata": {},
   "outputs": [
    {
     "name": "stdout",
     "output_type": "stream",
     "text": [
      "Requirement already satisfied: networkx in c:\\dev\\sshh12\\llm_alchemy\\venv\\lib\\site-packages (3.2.1)\n",
      "Requirement already satisfied: matplotlib in c:\\dev\\sshh12\\llm_alchemy\\venv\\lib\\site-packages (3.8.2)\n",
      "Collecting scipy\n",
      "  Downloading scipy-1.12.0-cp310-cp310-win_amd64.whl (46.2 MB)\n",
      "     ---------------------------------------- 46.2/46.2 MB 4.5 MB/s eta 0:00:00\n",
      "Requirement already satisfied: numpy<2,>=1.21 in c:\\dev\\sshh12\\llm_alchemy\\venv\\lib\\site-packages (from matplotlib) (1.26.4)\n",
      "Requirement already satisfied: pyparsing>=2.3.1 in c:\\dev\\sshh12\\llm_alchemy\\venv\\lib\\site-packages (from matplotlib) (3.1.1)\n",
      "Requirement already satisfied: fonttools>=4.22.0 in c:\\dev\\sshh12\\llm_alchemy\\venv\\lib\\site-packages (from matplotlib) (4.48.1)\n",
      "Requirement already satisfied: pillow>=8 in c:\\dev\\sshh12\\llm_alchemy\\venv\\lib\\site-packages (from matplotlib) (10.2.0)\n",
      "Requirement already satisfied: python-dateutil>=2.7 in c:\\dev\\sshh12\\llm_alchemy\\venv\\lib\\site-packages (from matplotlib) (2.8.2)\n",
      "Requirement already satisfied: kiwisolver>=1.3.1 in c:\\dev\\sshh12\\llm_alchemy\\venv\\lib\\site-packages (from matplotlib) (1.4.5)\n",
      "Requirement already satisfied: packaging>=20.0 in c:\\dev\\sshh12\\llm_alchemy\\venv\\lib\\site-packages (from matplotlib) (23.2)\n",
      "Requirement already satisfied: cycler>=0.10 in c:\\dev\\sshh12\\llm_alchemy\\venv\\lib\\site-packages (from matplotlib) (0.12.1)\n",
      "Requirement already satisfied: contourpy>=1.0.1 in c:\\dev\\sshh12\\llm_alchemy\\venv\\lib\\site-packages (from matplotlib) (1.2.0)\n",
      "Requirement already satisfied: six>=1.5 in c:\\dev\\sshh12\\llm_alchemy\\venv\\lib\\site-packages (from python-dateutil>=2.7->matplotlib) (1.16.0)\n",
      "Installing collected packages: scipy\n",
      "Successfully installed scipy-1.12.0\n"
     ]
    },
    {
     "name": "stderr",
     "output_type": "stream",
     "text": [
      "\n",
      "[notice] A new release of pip available: 22.2.2 -> 24.0\n",
      "[notice] To update, run: python.exe -m pip install --upgrade pip\n"
     ]
    }
   ],
   "source": [
    "!pip install networkx matplotlib scipy"
   ]
  },
  {
   "cell_type": "code",
   "execution_count": 23,
   "id": "36c8d03c-6b22-4e67-a8fb-27fdefbc4e52",
   "metadata": {},
   "outputs": [],
   "source": [
    "import json\n",
    "from matplotlib import pylab\n",
    "import networkx as nx"
   ]
  },
  {
   "cell_type": "code",
   "execution_count": 25,
   "id": "583d8478-14d9-4032-8c8b-12cc7a18238a",
   "metadata": {},
   "outputs": [],
   "source": [
    "G2 = nx.DiGraph()\n",
    "\n",
    "id_to_name = {}\n",
    "edges2 = {}\n",
    "\n",
    "with open('../elements.dump.json', 'r') as f:\n",
    "    for line in f:\n",
    "        row = json.loads(line)\n",
    "        if 'imgUrl' in row:\n",
    "            id_to_name[row['id']] = row['name']\n",
    "        else:\n",
    "            element_ids = row['name'].replace('recipe:', '').split(',')\n",
    "            try:\n",
    "                element_names = [id_to_name[i] for i in element_ids]\n",
    "                result_name = id_to_name[row['resultElementId']]\n",
    "            except:\n",
    "                continue\n",
    "            if len(element_names) == 2:\n",
    "                edges2[(element_names[0], element_names[1])] = result_name"
   ]
  },
  {
   "cell_type": "code",
   "execution_count": 38,
   "id": "e1bce0e9-6c72-4caa-91a8-21c11d61366f",
   "metadata": {},
   "outputs": [],
   "source": [
    "def get_next_tier(elements):\n",
    "    next_tier = set()\n",
    "    for a in elements:\n",
    "        for b in elements:\n",
    "            if ab_result := edges2.get((a, b)):\n",
    "                next_tier.add(ab_result)\n",
    "    return next_tier - elements\n",
    "\n",
    "t0 = set(['earth', 'water', 'air', 'fire', 'time'])\n",
    "t1 = get_next_tier(t0)\n",
    "t2 = get_next_tier(t0 | t1)\n",
    "t3 = get_next_tier(t0 | t1 | t2)"
   ]
  },
  {
   "cell_type": "code",
   "execution_count": null,
   "id": "c2973450-8a4d-4638-8b08-05a6a82a543a",
   "metadata": {},
   "outputs": [],
   "source": []
  }
 ],
 "metadata": {
  "kernelspec": {
   "display_name": "Python 3 (ipykernel)",
   "language": "python",
   "name": "python3"
  },
  "language_info": {
   "codemirror_mode": {
    "name": "ipython",
    "version": 3
   },
   "file_extension": ".py",
   "mimetype": "text/x-python",
   "name": "python",
   "nbconvert_exporter": "python",
   "pygments_lexer": "ipython3",
   "version": "3.10.8"
  }
 },
 "nbformat": 4,
 "nbformat_minor": 5
}
